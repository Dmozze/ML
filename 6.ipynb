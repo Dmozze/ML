{
 "cells": [
  {
   "cell_type": "code",
   "execution_count": 2,
   "outputs": [],
   "source": [
    "import pandas as pd\n",
    "import numpy as np\n",
    "\n",
    "import warnings\n",
    "warnings.filterwarnings('ignore')\n"
   ],
   "metadata": {
    "collapsed": false
   }
  },
  {
   "cell_type": "code",
   "execution_count": 3,
   "outputs": [
    {
     "data": {
      "text/plain": "  label                                        sms_message\n0   ham  Go until jurong point, crazy.. Available only ...\n1   ham                      Ok lar... Joking wif u oni...\n2  spam  Free entry in 2 a wkly comp to win FA Cup fina...\n3   ham  U dun say so early hor... U c already then say...\n4   ham  Nah I don't think he goes to usf, he lives aro...",
      "text/html": "<div>\n<style scoped>\n    .dataframe tbody tr th:only-of-type {\n        vertical-align: middle;\n    }\n\n    .dataframe tbody tr th {\n        vertical-align: top;\n    }\n\n    .dataframe thead th {\n        text-align: right;\n    }\n</style>\n<table border=\"1\" class=\"dataframe\">\n  <thead>\n    <tr style=\"text-align: right;\">\n      <th></th>\n      <th>label</th>\n      <th>sms_message</th>\n    </tr>\n  </thead>\n  <tbody>\n    <tr>\n      <th>0</th>\n      <td>ham</td>\n      <td>Go until jurong point, crazy.. Available only ...</td>\n    </tr>\n    <tr>\n      <th>1</th>\n      <td>ham</td>\n      <td>Ok lar... Joking wif u oni...</td>\n    </tr>\n    <tr>\n      <th>2</th>\n      <td>spam</td>\n      <td>Free entry in 2 a wkly comp to win FA Cup fina...</td>\n    </tr>\n    <tr>\n      <th>3</th>\n      <td>ham</td>\n      <td>U dun say so early hor... U c already then say...</td>\n    </tr>\n    <tr>\n      <th>4</th>\n      <td>ham</td>\n      <td>Nah I don't think he goes to usf, he lives aro...</td>\n    </tr>\n  </tbody>\n</table>\n</div>"
     },
     "execution_count": 3,
     "metadata": {},
     "output_type": "execute_result"
    }
   ],
   "source": [
    "df = pd.read_table('data/SMS.tsv', sep='\\t', header=None, names=['label', 'sms_message'])\n",
    "df.head()"
   ],
   "metadata": {
    "collapsed": false
   }
  },
  {
   "cell_type": "code",
   "execution_count": 4,
   "outputs": [],
   "source": [
    "from sklearn.feature_extraction.text import TfidfVectorizer\n",
    "\n",
    "vectorizer = TfidfVectorizer()\n",
    "X = vectorizer.fit_transform(df['sms_message'])\n",
    "features = vectorizer.get_feature_names_out()\n"
   ],
   "metadata": {
    "collapsed": false
   }
  },
  {
   "cell_type": "code",
   "execution_count": 5,
   "outputs": [
    {
     "data": {
      "text/plain": "      label                                        sms_message\n0         0  Go until jurong point, crazy.. Available only ...\n1         0                      Ok lar... Joking wif u oni...\n2         1  Free entry in 2 a wkly comp to win FA Cup fina...\n3         0  U dun say so early hor... U c already then say...\n4         0  Nah I don't think he goes to usf, he lives aro...\n...     ...                                                ...\n5567      1  This is the 2nd time we have tried 2 contact u...\n5568      0               Will ü b going to esplanade fr home?\n5569      0  Pity, * was in mood for that. So...any other s...\n5570      0  The guy did some bitching but I acted like i'd...\n5571      0                         Rofl. Its true to its name\n\n[5572 rows x 2 columns]",
      "text/html": "<div>\n<style scoped>\n    .dataframe tbody tr th:only-of-type {\n        vertical-align: middle;\n    }\n\n    .dataframe tbody tr th {\n        vertical-align: top;\n    }\n\n    .dataframe thead th {\n        text-align: right;\n    }\n</style>\n<table border=\"1\" class=\"dataframe\">\n  <thead>\n    <tr style=\"text-align: right;\">\n      <th></th>\n      <th>label</th>\n      <th>sms_message</th>\n    </tr>\n  </thead>\n  <tbody>\n    <tr>\n      <th>0</th>\n      <td>0</td>\n      <td>Go until jurong point, crazy.. Available only ...</td>\n    </tr>\n    <tr>\n      <th>1</th>\n      <td>0</td>\n      <td>Ok lar... Joking wif u oni...</td>\n    </tr>\n    <tr>\n      <th>2</th>\n      <td>1</td>\n      <td>Free entry in 2 a wkly comp to win FA Cup fina...</td>\n    </tr>\n    <tr>\n      <th>3</th>\n      <td>0</td>\n      <td>U dun say so early hor... U c already then say...</td>\n    </tr>\n    <tr>\n      <th>4</th>\n      <td>0</td>\n      <td>Nah I don't think he goes to usf, he lives aro...</td>\n    </tr>\n    <tr>\n      <th>...</th>\n      <td>...</td>\n      <td>...</td>\n    </tr>\n    <tr>\n      <th>5567</th>\n      <td>1</td>\n      <td>This is the 2nd time we have tried 2 contact u...</td>\n    </tr>\n    <tr>\n      <th>5568</th>\n      <td>0</td>\n      <td>Will ü b going to esplanade fr home?</td>\n    </tr>\n    <tr>\n      <th>5569</th>\n      <td>0</td>\n      <td>Pity, * was in mood for that. So...any other s...</td>\n    </tr>\n    <tr>\n      <th>5570</th>\n      <td>0</td>\n      <td>The guy did some bitching but I acted like i'd...</td>\n    </tr>\n    <tr>\n      <th>5571</th>\n      <td>0</td>\n      <td>Rofl. Its true to its name</td>\n    </tr>\n  </tbody>\n</table>\n<p>5572 rows × 2 columns</p>\n</div>"
     },
     "execution_count": 5,
     "metadata": {},
     "output_type": "execute_result"
    }
   ],
   "source": [
    "df['label'] = df['label'].map({'ham': 0, 'spam': 1})\n",
    "y = df['label']\n",
    "df"
   ],
   "metadata": {
    "collapsed": false
   }
  },
  {
   "cell_type": "code",
   "execution_count": 6,
   "outputs": [
    {
     "data": {
      "text/plain": "            importance\ncall          0.026573\ntxt           0.022648\nclaim         0.020770\nfree          0.018687\nwww           0.017882\nmobile        0.016837\n150p          0.015060\nstop          0.012711\nprize         0.012244\nservice       0.011833\nwin           0.011491\nuk            0.010897\ntext          0.010860\nco            0.010693\nyour          0.009810\nreply         0.009785\nto            0.009782\nnow           0.008948\nurgent        0.008513\ncom           0.008402\ncash          0.008318\n18            0.007554\nour           0.007461\nwon           0.007312\n50            0.006825\nor            0.006745\nfrom          0.006669\ncustomer      0.006512\nguaranteed    0.006373\ncs            0.006372",
      "text/html": "<div>\n<style scoped>\n    .dataframe tbody tr th:only-of-type {\n        vertical-align: middle;\n    }\n\n    .dataframe tbody tr th {\n        vertical-align: top;\n    }\n\n    .dataframe thead th {\n        text-align: right;\n    }\n</style>\n<table border=\"1\" class=\"dataframe\">\n  <thead>\n    <tr style=\"text-align: right;\">\n      <th></th>\n      <th>importance</th>\n    </tr>\n  </thead>\n  <tbody>\n    <tr>\n      <th>call</th>\n      <td>0.026573</td>\n    </tr>\n    <tr>\n      <th>txt</th>\n      <td>0.022648</td>\n    </tr>\n    <tr>\n      <th>claim</th>\n      <td>0.020770</td>\n    </tr>\n    <tr>\n      <th>free</th>\n      <td>0.018687</td>\n    </tr>\n    <tr>\n      <th>www</th>\n      <td>0.017882</td>\n    </tr>\n    <tr>\n      <th>mobile</th>\n      <td>0.016837</td>\n    </tr>\n    <tr>\n      <th>150p</th>\n      <td>0.015060</td>\n    </tr>\n    <tr>\n      <th>stop</th>\n      <td>0.012711</td>\n    </tr>\n    <tr>\n      <th>prize</th>\n      <td>0.012244</td>\n    </tr>\n    <tr>\n      <th>service</th>\n      <td>0.011833</td>\n    </tr>\n    <tr>\n      <th>win</th>\n      <td>0.011491</td>\n    </tr>\n    <tr>\n      <th>uk</th>\n      <td>0.010897</td>\n    </tr>\n    <tr>\n      <th>text</th>\n      <td>0.010860</td>\n    </tr>\n    <tr>\n      <th>co</th>\n      <td>0.010693</td>\n    </tr>\n    <tr>\n      <th>your</th>\n      <td>0.009810</td>\n    </tr>\n    <tr>\n      <th>reply</th>\n      <td>0.009785</td>\n    </tr>\n    <tr>\n      <th>to</th>\n      <td>0.009782</td>\n    </tr>\n    <tr>\n      <th>now</th>\n      <td>0.008948</td>\n    </tr>\n    <tr>\n      <th>urgent</th>\n      <td>0.008513</td>\n    </tr>\n    <tr>\n      <th>com</th>\n      <td>0.008402</td>\n    </tr>\n    <tr>\n      <th>cash</th>\n      <td>0.008318</td>\n    </tr>\n    <tr>\n      <th>18</th>\n      <td>0.007554</td>\n    </tr>\n    <tr>\n      <th>our</th>\n      <td>0.007461</td>\n    </tr>\n    <tr>\n      <th>won</th>\n      <td>0.007312</td>\n    </tr>\n    <tr>\n      <th>50</th>\n      <td>0.006825</td>\n    </tr>\n    <tr>\n      <th>or</th>\n      <td>0.006745</td>\n    </tr>\n    <tr>\n      <th>from</th>\n      <td>0.006669</td>\n    </tr>\n    <tr>\n      <th>customer</th>\n      <td>0.006512</td>\n    </tr>\n    <tr>\n      <th>guaranteed</th>\n      <td>0.006373</td>\n    </tr>\n    <tr>\n      <th>cs</th>\n      <td>0.006372</td>\n    </tr>\n  </tbody>\n</table>\n</div>"
     },
     "execution_count": 6,
     "metadata": {},
     "output_type": "execute_result"
    }
   ],
   "source": [
    "from sklearn.ensemble import RandomForestClassifier\n",
    "\n",
    "clf = RandomForestClassifier(n_estimators=100, random_state=0)\n",
    "clf.fit(X, y)\n",
    "\n",
    "important_features = {'RFC': pd.DataFrame(clf.feature_importances_, features,\n",
    "                                          columns=['importance']).sort_values('importance', ascending=False).head(30)}\n",
    "important_features['RFC']"
   ],
   "metadata": {
    "collapsed": false
   }
  },
  {
   "cell_type": "code",
   "execution_count": 7,
   "outputs": [
    {
     "name": "stdout",
     "output_type": "stream",
     "text": [
      "0\n",
      "100\n",
      "200\n",
      "300\n",
      "400\n",
      "500\n",
      "600\n",
      "700\n",
      "800\n",
      "900\n",
      "1000\n",
      "1100\n",
      "1200\n",
      "1300\n",
      "1400\n",
      "1500\n",
      "1600\n",
      "1700\n",
      "1800\n",
      "1900\n",
      "2000\n",
      "2100\n",
      "2200\n",
      "2300\n",
      "2400\n",
      "2500\n",
      "2600\n",
      "2700\n",
      "2800\n",
      "2900\n",
      "3000\n",
      "3100\n",
      "3200\n",
      "3300\n",
      "3400\n",
      "3500\n",
      "3600\n",
      "3700\n",
      "3800\n",
      "3900\n",
      "4000\n",
      "4100\n",
      "4200\n",
      "4300\n",
      "4400\n",
      "4500\n",
      "4600\n",
      "4700\n",
      "4800\n",
      "4900\n",
      "5000\n",
      "5100\n",
      "5200\n",
      "5300\n",
      "5400\n",
      "5500\n",
      "5600\n",
      "5700\n",
      "5800\n",
      "5900\n",
      "6000\n",
      "6100\n",
      "6200\n",
      "6300\n",
      "6400\n",
      "6500\n",
      "6600\n",
      "6700\n",
      "6800\n",
      "6900\n",
      "7000\n",
      "7100\n",
      "7200\n",
      "7300\n",
      "7400\n",
      "7500\n",
      "7600\n",
      "7700\n",
      "7800\n",
      "7900\n",
      "8000\n",
      "8100\n",
      "8200\n",
      "8300\n",
      "8400\n",
      "8500\n",
      "8600\n",
      "8700\n"
     ]
    },
    {
     "data": {
      "text/plain": "             importance\nnow            0.978105\nto             0.977925\ncontact        0.977746\nor             0.977746\nbut            0.977566\nname           0.977566\nwe             0.977566\nlove           0.977566\nwww            0.977566\nas             0.977566\nre             0.977566\nsong           0.977387\n16             0.977387\nukp            0.977387\ntoday          0.977387\nyeah           0.977387\nyear           0.977387\nover           0.977387\n083            0.977387\nco             0.977387\ncake           0.977387\neldest         0.977387\n08081560665    0.977387\nyellow         0.977387\nalready        0.977387\nmovie          0.977387\nyes            0.977387\nneeds          0.977387\nav             0.977387\n08712460324    0.977387",
      "text/html": "<div>\n<style scoped>\n    .dataframe tbody tr th:only-of-type {\n        vertical-align: middle;\n    }\n\n    .dataframe tbody tr th {\n        vertical-align: top;\n    }\n\n    .dataframe thead th {\n        text-align: right;\n    }\n</style>\n<table border=\"1\" class=\"dataframe\">\n  <thead>\n    <tr style=\"text-align: right;\">\n      <th></th>\n      <th>importance</th>\n    </tr>\n  </thead>\n  <tbody>\n    <tr>\n      <th>now</th>\n      <td>0.978105</td>\n    </tr>\n    <tr>\n      <th>to</th>\n      <td>0.977925</td>\n    </tr>\n    <tr>\n      <th>contact</th>\n      <td>0.977746</td>\n    </tr>\n    <tr>\n      <th>or</th>\n      <td>0.977746</td>\n    </tr>\n    <tr>\n      <th>but</th>\n      <td>0.977566</td>\n    </tr>\n    <tr>\n      <th>name</th>\n      <td>0.977566</td>\n    </tr>\n    <tr>\n      <th>we</th>\n      <td>0.977566</td>\n    </tr>\n    <tr>\n      <th>love</th>\n      <td>0.977566</td>\n    </tr>\n    <tr>\n      <th>www</th>\n      <td>0.977566</td>\n    </tr>\n    <tr>\n      <th>as</th>\n      <td>0.977566</td>\n    </tr>\n    <tr>\n      <th>re</th>\n      <td>0.977566</td>\n    </tr>\n    <tr>\n      <th>song</th>\n      <td>0.977387</td>\n    </tr>\n    <tr>\n      <th>16</th>\n      <td>0.977387</td>\n    </tr>\n    <tr>\n      <th>ukp</th>\n      <td>0.977387</td>\n    </tr>\n    <tr>\n      <th>today</th>\n      <td>0.977387</td>\n    </tr>\n    <tr>\n      <th>yeah</th>\n      <td>0.977387</td>\n    </tr>\n    <tr>\n      <th>year</th>\n      <td>0.977387</td>\n    </tr>\n    <tr>\n      <th>over</th>\n      <td>0.977387</td>\n    </tr>\n    <tr>\n      <th>083</th>\n      <td>0.977387</td>\n    </tr>\n    <tr>\n      <th>co</th>\n      <td>0.977387</td>\n    </tr>\n    <tr>\n      <th>cake</th>\n      <td>0.977387</td>\n    </tr>\n    <tr>\n      <th>eldest</th>\n      <td>0.977387</td>\n    </tr>\n    <tr>\n      <th>08081560665</th>\n      <td>0.977387</td>\n    </tr>\n    <tr>\n      <th>yellow</th>\n      <td>0.977387</td>\n    </tr>\n    <tr>\n      <th>already</th>\n      <td>0.977387</td>\n    </tr>\n    <tr>\n      <th>movie</th>\n      <td>0.977387</td>\n    </tr>\n    <tr>\n      <th>yes</th>\n      <td>0.977387</td>\n    </tr>\n    <tr>\n      <th>needs</th>\n      <td>0.977387</td>\n    </tr>\n    <tr>\n      <th>av</th>\n      <td>0.977387</td>\n    </tr>\n    <tr>\n      <th>08712460324</th>\n      <td>0.977387</td>\n    </tr>\n  </tbody>\n</table>\n</div>"
     },
     "execution_count": 7,
     "metadata": {},
     "output_type": "execute_result"
    }
   ],
   "source": [
    "from sklearn.linear_model import LogisticRegression\n",
    "\n",
    "weight_features = []\n",
    "for j in range(0, len(features)):\n",
    "    if j % 100 == 0:\n",
    "        print(j)\n",
    "    X_copy = X.copy()\n",
    "    X_copy[:, j] = np.random.permutation(X_copy[:, j].toarray().ravel())\n",
    "    lr = LogisticRegression()\n",
    "    lr.fit(X_copy, y)\n",
    "    weight_features.append(lr.score(X_copy, y))\n",
    "important_features['PI'] = pd.DataFrame(weight_features, features, columns=['importance']).sort_values('importance', ascending=False).head(30)\n",
    "important_features['PI']"
   ],
   "metadata": {
    "collapsed": false
   }
  },
  {
   "cell_type": "code",
   "execution_count": 8,
   "outputs": [
    {
     "name": "stdout",
     "output_type": "stream",
     "text": [
      "0\n",
      "100\n",
      "200\n",
      "300\n",
      "400\n",
      "500\n",
      "600\n",
      "700\n",
      "800\n",
      "900\n",
      "1000\n",
      "1100\n",
      "1200\n",
      "1300\n",
      "1400\n",
      "1500\n",
      "1600\n",
      "1700\n",
      "1800\n",
      "1900\n",
      "2000\n",
      "2100\n",
      "2200\n",
      "2300\n",
      "2400\n",
      "2500\n",
      "2600\n",
      "2700\n",
      "2800\n",
      "2900\n",
      "3000\n",
      "3100\n",
      "3200\n",
      "3300\n",
      "3400\n",
      "3500\n",
      "3600\n",
      "3700\n",
      "3800\n",
      "3900\n",
      "4000\n",
      "4100\n",
      "4200\n",
      "4300\n",
      "4400\n",
      "4500\n",
      "4600\n",
      "4700\n",
      "4800\n",
      "4900\n",
      "5000\n",
      "5100\n",
      "5200\n",
      "5300\n",
      "5400\n",
      "5500\n",
      "5600\n",
      "5700\n",
      "5800\n",
      "5900\n",
      "6000\n",
      "6100\n",
      "6200\n",
      "6300\n",
      "6400\n",
      "6500\n",
      "6600\n",
      "6700\n",
      "6800\n",
      "6900\n",
      "7000\n",
      "7100\n",
      "7200\n",
      "7300\n",
      "7400\n",
      "7500\n",
      "7600\n",
      "7700\n",
      "7800\n",
      "7900\n",
      "8000\n",
      "8100\n",
      "8200\n",
      "8300\n",
      "8400\n",
      "8500\n",
      "8600\n",
      "8700\n"
     ]
    },
    {
     "data": {
      "text/plain": "         importance\nto      3341.289567\ncall    2263.869865\nyou     1773.752468\nyour    1559.972139\nnow     1298.950637\nfor     1240.911568\nthe     1214.578614\nor      1202.939664\nfree    1138.476927\nis      1014.672791\ntxt     1010.680320\nhave     888.184246\non       843.611510\nfrom     843.012881\nand      803.954411\nur       775.280276\nmobile   746.742286\ntext     719.249324\nclaim    711.378751\nwith     695.750011\nof       678.463707\nstop     675.461049\nwww      644.573373\nreply    616.093637\nget      594.948582\nthis     594.626467\nin       569.401662\nonly     567.219561\njust     556.048096\nour      551.864509",
      "text/html": "<div>\n<style scoped>\n    .dataframe tbody tr th:only-of-type {\n        vertical-align: middle;\n    }\n\n    .dataframe tbody tr th {\n        vertical-align: top;\n    }\n\n    .dataframe thead th {\n        text-align: right;\n    }\n</style>\n<table border=\"1\" class=\"dataframe\">\n  <thead>\n    <tr style=\"text-align: right;\">\n      <th></th>\n      <th>importance</th>\n    </tr>\n  </thead>\n  <tbody>\n    <tr>\n      <th>to</th>\n      <td>3341.289567</td>\n    </tr>\n    <tr>\n      <th>call</th>\n      <td>2263.869865</td>\n    </tr>\n    <tr>\n      <th>you</th>\n      <td>1773.752468</td>\n    </tr>\n    <tr>\n      <th>your</th>\n      <td>1559.972139</td>\n    </tr>\n    <tr>\n      <th>now</th>\n      <td>1298.950637</td>\n    </tr>\n    <tr>\n      <th>for</th>\n      <td>1240.911568</td>\n    </tr>\n    <tr>\n      <th>the</th>\n      <td>1214.578614</td>\n    </tr>\n    <tr>\n      <th>or</th>\n      <td>1202.939664</td>\n    </tr>\n    <tr>\n      <th>free</th>\n      <td>1138.476927</td>\n    </tr>\n    <tr>\n      <th>is</th>\n      <td>1014.672791</td>\n    </tr>\n    <tr>\n      <th>txt</th>\n      <td>1010.680320</td>\n    </tr>\n    <tr>\n      <th>have</th>\n      <td>888.184246</td>\n    </tr>\n    <tr>\n      <th>on</th>\n      <td>843.611510</td>\n    </tr>\n    <tr>\n      <th>from</th>\n      <td>843.012881</td>\n    </tr>\n    <tr>\n      <th>and</th>\n      <td>803.954411</td>\n    </tr>\n    <tr>\n      <th>ur</th>\n      <td>775.280276</td>\n    </tr>\n    <tr>\n      <th>mobile</th>\n      <td>746.742286</td>\n    </tr>\n    <tr>\n      <th>text</th>\n      <td>719.249324</td>\n    </tr>\n    <tr>\n      <th>claim</th>\n      <td>711.378751</td>\n    </tr>\n    <tr>\n      <th>with</th>\n      <td>695.750011</td>\n    </tr>\n    <tr>\n      <th>of</th>\n      <td>678.463707</td>\n    </tr>\n    <tr>\n      <th>stop</th>\n      <td>675.461049</td>\n    </tr>\n    <tr>\n      <th>www</th>\n      <td>644.573373</td>\n    </tr>\n    <tr>\n      <th>reply</th>\n      <td>616.093637</td>\n    </tr>\n    <tr>\n      <th>get</th>\n      <td>594.948582</td>\n    </tr>\n    <tr>\n      <th>this</th>\n      <td>594.626467</td>\n    </tr>\n    <tr>\n      <th>in</th>\n      <td>569.401662</td>\n    </tr>\n    <tr>\n      <th>only</th>\n      <td>567.219561</td>\n    </tr>\n    <tr>\n      <th>just</th>\n      <td>556.048096</td>\n    </tr>\n    <tr>\n      <th>our</th>\n      <td>551.864509</td>\n    </tr>\n  </tbody>\n</table>\n</div>"
     },
     "execution_count": 8,
     "metadata": {},
     "output_type": "execute_result"
    }
   ],
   "source": [
    "from scipy.stats import chi2_contingency\n",
    "\n",
    "weight_features = []\n",
    "for i in range(len(features)):\n",
    "    if i % 100 == 0:\n",
    "        print(i)\n",
    "    contingency_table = pd.crosstab(y, X[:, i].toarray().ravel())\n",
    "    chi2, p, dof, expected = chi2_contingency(contingency_table.values)\n",
    "    weight_features.append(chi2)\n",
    "important_features['CHI'] = pd.DataFrame(weight_features, features, columns=['importance']).sort_values('importance', ascending=False).head(30)\n",
    "important_features['CHI']"
   ],
   "metadata": {
    "collapsed": false
   }
  },
  {
   "cell_type": "code",
   "execution_count": 22,
   "outputs": [
    {
     "name": "stdout",
     "output_type": "stream",
     "text": [
      "            importance\n",
      "www                www\n",
      "won                won\n",
      "win                win\n",
      "urgent          urgent\n",
      "uk                  uk\n",
      "txt                txt\n",
      "tone              tone\n",
      "stop              stop\n",
      "service        service\n",
      "reply            reply\n",
      "prize            prize\n",
      "nokia            nokia\n",
      "mobile          mobile\n",
      "guaranteed  guaranteed\n",
      "free              free\n",
      "cs                  cs\n",
      "contact        contact\n",
      "co                  co\n",
      "claim            claim\n",
      "cash              cash\n",
      "call              call\n",
      "awarded        awarded\n",
      "500                500\n",
      "50                  50\n",
      "18                  18\n",
      "16                  16\n",
      "150ppm          150ppm\n",
      "150p              150p\n",
      "1000              1000\n",
      "100                100\n"
     ]
    }
   ],
   "source": [
    "from sklearn.feature_selection import SelectKBest, f_classif\n",
    "\n",
    "algorithm = SelectKBest(f_classif, k=30)\n",
    "X_new = algorithm.fit_transform(X, y)\n",
    "words = [features[i] for i in algorithm.get_support(indices=True)]\n",
    "important_features['SKB'] = pd.DataFrame(words, words, columns=['importance']).sort_values('importance', ascending=False)\n",
    "print(important_features['SKB'])"
   ],
   "metadata": {
    "collapsed": false
   }
  },
  {
   "cell_type": "code",
   "execution_count": 23,
   "outputs": [
    {
     "name": "stdout",
     "output_type": "stream",
     "text": [
      "         importance\n",
      "your           your\n",
      "you             you\n",
      "www             www\n",
      "won             won\n",
      "win             win\n",
      "urgent       urgent\n",
      "uk               uk\n",
      "txt             txt\n",
      "to               to\n",
      "text           text\n",
      "stop           stop\n",
      "service     service\n",
      "ringtone   ringtone\n",
      "reply         reply\n",
      "prize         prize\n",
      "or               or\n",
      "now             now\n",
      "nokia         nokia\n",
      "mobile       mobile\n",
      "me               me\n",
      "free           free\n",
      "contact     contact\n",
      "com             com\n",
      "co               co\n",
      "claim         claim\n",
      "call           call\n",
      "50               50\n",
      "18               18\n",
      "16               16\n",
      "150p           150p\n"
     ]
    }
   ],
   "source": [
    "from sklearn.feature_selection import RFE\n",
    "\n",
    "clf = RandomForestClassifier(n_estimators=100, random_state=0)\n",
    "model = RFE(clf, n_features_to_select=30, step=0.1)\n",
    "model.fit(X, y)\n",
    "words = [features[i] for i in model.get_support(indices=True)]\n",
    "important_features['RFE'] = pd.DataFrame(words, words, columns=['importance']).sort_values('importance', ascending=False)\n",
    "print(important_features['RFE'])"
   ],
   "metadata": {
    "collapsed": false
   }
  },
  {
   "cell_type": "code",
   "execution_count": 25,
   "outputs": [
    {
     "name": "stdout",
     "output_type": "stream",
     "text": [
      "         importance\n",
      "your           your\n",
      "www             www\n",
      "won             won\n",
      "win             win\n",
      "urgent       urgent\n",
      "uk               uk\n",
      "txt             txt\n",
      "to               to\n",
      "text           text\n",
      "stop           stop\n",
      "service     service\n",
      "ringtone   ringtone\n",
      "reply         reply\n",
      "prize         prize\n",
      "or               or\n",
      "new             new\n",
      "my               my\n",
      "mobile       mobile\n",
      "me               me\n",
      "from           from\n",
      "free           free\n",
      "com             com\n",
      "co               co\n",
      "claim         claim\n",
      "chat           chat\n",
      "cash           cash\n",
      "call           call\n",
      "50               50\n",
      "18               18\n",
      "150p           150p\n"
     ]
    }
   ],
   "source": [
    "from sklearn.feature_selection import SequentialFeatureSelector, SelectFromModel\n",
    "\n",
    "lr = LogisticRegression()\n",
    "sfm_lr = SelectFromModel(lr, max_features=30)\n",
    "sfm_lr.fit(X, y)\n",
    "words = [features[i] for i in sfm_lr.get_support(indices=True)]\n",
    "important_features['SFM'] = pd.DataFrame(words, words, columns=['importance']).sort_values('importance', ascending=False)\n",
    "print(important_features['SFM'])"
   ],
   "metadata": {
    "collapsed": false
   }
  },
  {
   "cell_type": "code",
   "execution_count": 27,
   "outputs": [
    {
     "name": "stdout",
     "output_type": "stream",
     "text": [
      "KNeighborsClassifier()\n",
      "0.9147982062780269\n",
      "RFC  :  0.9623318385650225\n",
      "PI  :  0.9228699551569507\n",
      "CHI  :  0.9533632286995516\n",
      "SKB  :  0.9659192825112107\n",
      "RFE  :  0.9695067264573991\n",
      "SFM  :  0.9766816143497757\n",
      "SVC()\n",
      "0.9829596412556054\n",
      "RFC  :  0.9632286995515695\n",
      "PI  :  0.9192825112107623\n",
      "CHI  :  0.9605381165919282\n",
      "SKB  :  0.9730941704035875\n",
      "RFE  :  0.9721973094170404\n",
      "SFM  :  0.9757847533632287\n",
      "MultinomialNB()\n",
      "0.9668161434977578\n",
      "RFC  :  0.8708520179372198\n",
      "PI  :  0.8663677130044843\n",
      "CHI  :  0.8663677130044843\n",
      "SKB  :  0.8663677130044843\n",
      "RFE  :  0.8780269058295964\n",
      "SFM  :  0.8717488789237668\n"
     ]
    }
   ],
   "source": [
    "from sklearn.model_selection import train_test_split\n",
    "\n",
    "X_train, X_test, y_train, y_test = train_test_split(X, y, test_size=0.2, random_state=42)\n",
    "\n",
    "def compare_methods(model):\n",
    "    print(model)\n",
    "    model.fit(X_train, y_train)\n",
    "    print(model.score(X_test, y_test))\n",
    "\n",
    "    for method in important_features:\n",
    "        best_features = important_features[method].index.values\n",
    "        X_train_new = X_train[:, [np.where(features == feature)[0][0] for feature in best_features]]\n",
    "        X_test_new = X_test[:, [np.where(features == feature)[0][0] for feature in best_features]]\n",
    "        model.fit(X_train_new, y_train)\n",
    "        print(method, \" : \", model.score(X_test_new, y_test))\n",
    "\n",
    "from sklearn.neighbors import KNeighborsClassifier\n",
    "from sklearn.svm import SVC\n",
    "from sklearn.naive_bayes import MultinomialNB\n",
    "\n",
    "compare_methods(KNeighborsClassifier())\n",
    "compare_methods(SVC())\n",
    "compare_methods(MultinomialNB())\n",
    "\n"
   ],
   "metadata": {
    "collapsed": false
   }
  },
  {
   "cell_type": "code",
   "execution_count": null,
   "outputs": [],
   "source": [],
   "metadata": {
    "collapsed": false
   }
  },
  {
   "cell_type": "code",
   "execution_count": null,
   "outputs": [],
   "source": [],
   "metadata": {
    "collapsed": false
   }
  }
 ],
 "metadata": {
  "kernelspec": {
   "display_name": "Python 3",
   "language": "python",
   "name": "python3"
  },
  "language_info": {
   "codemirror_mode": {
    "name": "ipython",
    "version": 2
   },
   "file_extension": ".py",
   "mimetype": "text/x-python",
   "name": "python",
   "nbconvert_exporter": "python",
   "pygments_lexer": "ipython2",
   "version": "2.7.6"
  }
 },
 "nbformat": 4,
 "nbformat_minor": 0
}
